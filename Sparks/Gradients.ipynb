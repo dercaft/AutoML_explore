{
 "cells": [
  {
   "cell_type": "markdown",
   "source": [
    "# A Notebook to explore weights' changes in a training process\r\n",
    "## My hypothesis:\r\n",
    "With training process goes on, weights in front layers will converge faster than those in back layers.\r\n",
    "## Experiment pipline:\r\n",
    "\r\n",
    "- Create model\r\n",
    "- Training, track and save model weights after every epoch\r\n",
    "    - Calculate weight changes\r\n",
    "    - Record statistics of gradients per batch\r\n",
    "- Visualize these changes.\r\n",
    "## Create Model"
   ],
   "metadata": {}
  },
  {
   "cell_type": "code",
   "execution_count": null,
   "source": [
    "import os, sys, time\r\n",
    "import numpy as np\r\n",
    "import torch\r\n",
    "import torchvision"
   ],
   "outputs": [],
   "metadata": {}
  },
  {
   "cell_type": "code",
   "execution_count": null,
   "source": [
    "net=torchvision.models.ResNet18()"
   ],
   "outputs": [],
   "metadata": {}
  },
  {
   "cell_type": "code",
   "execution_count": null,
   "source": [
    "batchsize=16\r\n",
    "epoch=120\r\n",
    "init_lr=0.1"
   ],
   "outputs": [],
   "metadata": {}
  }
 ],
 "metadata": {
  "orig_nbformat": 4,
  "language_info": {
   "name": "python",
   "version": "3.7.0"
  },
  "kernelspec": {
   "name": "python3",
   "display_name": "Python 3.7.0 64-bit ('base': conda)"
  },
  "interpreter": {
   "hash": "07efdcd4b820c98a756949507a4d29d7862823915ec7477944641bea022f4f62"
  }
 },
 "nbformat": 4,
 "nbformat_minor": 2
}