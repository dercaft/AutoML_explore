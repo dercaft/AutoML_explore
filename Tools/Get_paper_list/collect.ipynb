{
 "cells": [
  {
   "cell_type": "code",
   "execution_count": 5,
   "source": [
    "import os,sys,csv\r\n",
    "filename=\"顶会网址.csv\""
   ],
   "outputs": [],
   "metadata": {}
  },
  {
   "cell_type": "code",
   "execution_count": 7,
   "source": [
    "with open(filename,'r',encoding='utf-8') as f:\r\n",
    "    reader=csv.reader(f)\r\n",
    "    for x in reader:\r\n",
    "        print(x)"
   ],
   "outputs": [
    {
     "output_type": "stream",
     "name": "stdout",
     "text": [
      "['\\ufeff序号', '会议名', '年份', '论文列表网址', '备注', '格式化程度']\n",
      "['4', 'AAAI', '2018', 'https://aaai.org/Conferences/AAAI-18/wp-content/uploads/2017/12/AAAI-18-Accepted-Paper-List.Web_.pdf', '0', '']\n",
      "['3', 'AAAI', '2019', 'https://aaai.org/Conferences/AAAI-19/wp-content/uploads/2018/11/AAAI-19_Accepted_Papers.pdf', '0', '']\n",
      "['2', 'AAAI', '2020', 'https://aaai.org/Conferences/AAAI-20/wp-content/uploads/2020/01/AAAI-20-Accepted-Paper-List.pdf', '0', '']\n",
      "['1', 'AAAI', '2021', 'https://aaai.org/Conferences/AAAI-21/wp-content/uploads/2020/12/AAAI-21_Accepted-Paper-List.Main_.Technical.Track_.pdf', '0', '']\n",
      "['8', 'CVPR', '2018', 'https://cvpr2018.thecvf.com/program/', 'Main conference 无法访问', '']\n",
      "['7', 'CVPR', '2019', 'https://cvpr2019.thecvf.com/program/main_conference#program_schedule', '0', '']\n",
      "['6', 'CVPR', '2020', 'http://cvpr2020.thecvf.com/program/main-conference', '0', '']\n",
      "['5', 'CVPR', '2021', 'http://cvpr2021.thecvf.com/node/168', '分成12个部分', '']\n",
      "['12', 'ECCV', '2018', 'https://openaccess.thecvf.com/ECCV2018', 'https://www.ecva.net/papers.php', '']\n",
      "['10', 'ECCV', '2020', 'https://www.ecva.net/papers.php', ' 含有2020和2018两年的论文', '']\n",
      "['15', 'ICCV', '2019', 'https://openaccess.thecvf.com/ICCV2019', '0', '']\n",
      "['13', 'ICCV', '2021', 'Not published', '0', '']\n",
      "['20', 'ICLR', '2018', 'https://openreview.net/group?id=ICLR.cc/2018/Conference', '0', '']\n",
      "['19', 'ICLR', '2019', 'https://openreview.net/group?id=ICLR.cc/2019/Conference', '0', '']\n",
      "['18', 'ICLR', '2020', 'https://openreview.net/group?id=ICLR.cc/2020/Conference', '0', '']\n",
      "['17', 'ICLR', '2021', 'https://openreview.net/group?id=ICLR.cc/2021/Conference', '0', '']\n",
      "['24', 'ICML', '2018', 'http://proceedings.mlr.press/v80/', '0', '']\n",
      "['23', 'ICML', '2019', 'http://proceedings.mlr.press/v97/', '0', '']\n",
      "['22', 'ICML', '2020', 'http://proceedings.mlr.press/v119/', '0', '']\n",
      "['21', 'ICML', '2021', 'http://proceedings.mlr.press/v139/', '0', '']\n",
      "['28', 'IJCAI', '2018', 'https://www.ijcai.org/proceedings/2018/', '0', '']\n",
      "['27', 'IJCAI', '2019', 'https://www.ijcai.org/proceedings/2019/', '0', '']\n",
      "['26', 'IJCAI', '2020', 'https://www.ijcai.org/proceedings/2020/', '0', '']\n",
      "['25', 'IJCAI', '2021', 'Not published', '0', '']\n",
      "['32', 'NIPS', '2018', 'https://proceedings.neurips.cc/paper/2018', '0', '']\n",
      "['31', 'NIPS', '2019', 'https://proceedings.neurips.cc/paper/2019', '0', '']\n",
      "['30', 'NIPS', '2020', 'https://proceedings.neurips.cc/paper/2020', '0', '']\n",
      "['29', 'NIPS', '2021', 'Not published', '0', '']\n"
     ]
    }
   ],
   "metadata": {}
  },
  {
   "cell_type": "code",
   "execution_count": null,
   "source": [],
   "outputs": [],
   "metadata": {}
  }
 ],
 "metadata": {
  "orig_nbformat": 4,
  "language_info": {
   "name": "python",
   "version": "3.6.13",
   "mimetype": "text/x-python",
   "codemirror_mode": {
    "name": "ipython",
    "version": 3
   },
   "pygments_lexer": "ipython3",
   "nbconvert_exporter": "python",
   "file_extension": ".py"
  },
  "kernelspec": {
   "name": "python3",
   "display_name": "Python 3.6.13 64-bit ('torch': conda)"
  },
  "interpreter": {
   "hash": "3a5f714b4f6e5a2acf9ea4e7b1c0c43f376d2284ed3b59922760a9b4b748ea21"
  }
 },
 "nbformat": 4,
 "nbformat_minor": 2
}